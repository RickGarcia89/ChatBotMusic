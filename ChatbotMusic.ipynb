{
  "nbformat": 4,
  "nbformat_minor": 0,
  "metadata": {
    "colab": {
      "provenance": [],
      "authorship_tag": "ABX9TyPzTnclxDFuMc5pFxE+j2Dh",
      "include_colab_link": true
    },
    "kernelspec": {
      "name": "python3",
      "display_name": "Python 3"
    },
    "language_info": {
      "name": "python"
    }
  },
  "cells": [
    {
      "cell_type": "markdown",
      "metadata": {
        "id": "view-in-github",
        "colab_type": "text"
      },
      "source": [
        "<a href=\"https://colab.research.google.com/github/RickGarcia89/ChatBotMusic/blob/main/ChatbotMusic.ipynb\" target=\"_parent\"><img src=\"https://colab.research.google.com/assets/colab-badge.svg\" alt=\"Open In Colab\"/></a>"
      ]
    },
    {
      "cell_type": "markdown",
      "source": [
        "Instalando o SDK do **Google**"
      ],
      "metadata": {
        "id": "INukQQVDgWpl"
      }
    },
    {
      "cell_type": "code",
      "execution_count": 1,
      "metadata": {
        "id": "w4FXWpJWgJum"
      },
      "outputs": [],
      "source": [
        "!pip install -q -U google-generativeai"
      ]
    },
    {
      "cell_type": "code",
      "source": [
        "API_KEY = userdata.get(\"chave_secreta\")"
      ],
      "metadata": {
        "id": "4imIswptBkIK"
      },
      "execution_count": null,
      "outputs": []
    },
    {
      "cell_type": "code",
      "source": [
        "# Import the Python SDK\n",
        "import google.generativeai as genai\n",
        "from google.colab import userdata\n",
        "api_key = userdata.get(\"chave_secreta\")\n",
        "genai.configure = (api_key=api_key)"
      ],
      "metadata": {
        "id": "sjK6va6_hxhk"
      },
      "execution_count": 5,
      "outputs": []
    },
    {
      "cell_type": "markdown",
      "source": [
        "Listar os modelos disponíveis"
      ],
      "metadata": {
        "id": "nsFu4wTKigbp"
      }
    },
    {
      "cell_type": "code",
      "source": [
        "for m in genai.list_models():\n",
        "  if 'generateContent' in m.supported_generation_methods:\n",
        "    print(m.name)"
      ],
      "metadata": {
        "colab": {
          "base_uri": "https://localhost:8080/",
          "height": 139
        },
        "id": "5VeM_l4Zi15R",
        "outputId": "d170ac98-6d69-4bda-9cb0-58830d8b2517"
      },
      "execution_count": 8,
      "outputs": [
        {
          "output_type": "stream",
          "name": "stdout",
          "text": [
            "models/gemini-1.0-pro\n",
            "models/gemini-1.0-pro-001\n",
            "models/gemini-1.0-pro-latest\n",
            "models/gemini-1.0-pro-vision-latest\n",
            "models/gemini-1.5-pro-latest\n",
            "models/gemini-pro\n",
            "models/gemini-pro-vision\n"
          ]
        }
      ]
    },
    {
      "cell_type": "code",
      "source": [
        "generation_config = {\n",
        "    \"candidate_count\": 1,\n",
        "    \"temperature\": 0,\n",
        "}"
      ],
      "metadata": {
        "id": "KntsJziInJ0L"
      },
      "execution_count": 9,
      "outputs": []
    },
    {
      "cell_type": "code",
      "source": [
        "Safety_settings = {\n",
        "    \"HARASSMENT\": \"BLOCK_NONE\",\n",
        "    \"HATE\": \"BLOCK_NONE\",\n",
        "    \"SEXUAL\": \"BLOCK_NONE\",\n",
        "    \"DANGEROUS\": \"BLOCK_NONE\",\n",
        "}"
      ],
      "metadata": {
        "id": "3n93E0FspU1q"
      },
      "execution_count": 10,
      "outputs": []
    },
    {
      "cell_type": "markdown",
      "source": [
        "Inicializando o Modelo"
      ],
      "metadata": {
        "id": "nD8xTg5Yrfi7"
      }
    },
    {
      "cell_type": "code",
      "source": [
        "model = genai.GenerativeModel(model_name=\"gemini-1.0-pro\",\n",
        "                              generation_config=generation_config,\n",
        "                              safety_settings=Safety_settings,)"
      ],
      "metadata": {
        "id": "JbVWoo4Brh3b"
      },
      "execution_count": 11,
      "outputs": []
    },
    {
      "cell_type": "code",
      "source": [
        "response = model.generate_content(\"Respostas sobre teoria musical\")\n",
        "print(response.text)"
      ],
      "metadata": {
        "colab": {
          "base_uri": "https://localhost:8080/",
          "height": 520
        },
        "id": "tMpmMgORtj5l",
        "outputId": "55577c96-a50e-446f-e036-915452f0aea1"
      },
      "execution_count": 12,
      "outputs": [
        {
          "output_type": "stream",
          "name": "stdout",
          "text": [
            "**Pergunta: O que é uma escala musical?**\n",
            "Resposta: Uma sequência ordenada de notas musicais que cria um padrão melódico ou harmônico específico.\n",
            "\n",
            "**Pergunta: Quais são os três tipos principais de acordes?**\n",
            "Resposta: Maiores, menores e aumentados.\n",
            "\n",
            "**Pergunta: O que é um intervalo musical?**\n",
            "Resposta: A distância entre duas notas musicais.\n",
            "\n",
            "**Pergunta: Quais são os quatro tipos principais de ritmos?**\n",
            "Resposta: Binário, ternário, quaternário e composto.\n",
            "\n",
            "**Pergunta: O que é uma clave?**\n",
            "Resposta: Um símbolo musical que indica a altura das notas na pauta.\n",
            "\n",
            "**Pergunta: Quais são as três notas principais de um acorde maior?**\n",
            "Resposta: Tônica, terça maior e quinta perfeita.\n",
            "\n",
            "**Pergunta: O que é uma cadência?**\n",
            "Resposta: Uma sequência de acordes que cria uma sensação de resolução ou conclusão.\n",
            "\n",
            "**Pergunta: Quais são os dois tipos principais de dinâmica musical?**\n",
            "Resposta: Forte (f) e suave (p).\n",
            "\n",
            "**Pergunta: O que é um compasso?**\n",
            "Resposta: Uma unidade de tempo musical que divide a música em medidas regulares.\n",
            "\n",
            "**Pergunta: Quais são os três elementos principais da música?**\n",
            "Resposta: Melodia, harmonia e ritmo.\n"
          ]
        }
      ]
    },
    {
      "cell_type": "code",
      "source": [
        "chat = model.start_chat(history=[])"
      ],
      "metadata": {
        "id": "WTKTl7HquLrh"
      },
      "execution_count": 13,
      "outputs": []
    },
    {
      "cell_type": "code",
      "source": [
        "prompt = input(\"Aluno: \")\n",
        "\n",
        "while prompt != \"fim\":\n",
        "  response = chat.send_message(prompt)\n",
        "  print(\"Professor: \", response.text, \"\\n\")\n",
        "  prompt = input(\"Aluno: \")"
      ],
      "metadata": {
        "colab": {
          "base_uri": "https://localhost:8080/",
          "height": 542
        },
        "id": "n4qniimVu0PU",
        "outputId": "e155128f-cc8e-4738-da26-466f66fbe1dc"
      },
      "execution_count": null,
      "outputs": [
        {
          "output_type": "stream",
          "name": "stdout",
          "text": [
            "Aluno: Pitagoras foi importante para a música?\n",
            "Professor:  Sim, Pitágoras foi importante para a música por causa de suas contribuições para a teoria musical e a afinação.\n",
            "\n",
            "**Teoria Musical:**\n",
            "\n",
            "* Pitágoras acreditava que a música era baseada em proporções matemáticas.\n",
            "* Ele descobriu que as notas musicais que soam agradáveis juntas têm frequências que estão em proporções simples, como 1:2 (oitava), 2:3 (quinta perfeita) e 3:4 (quarta perfeita).\n",
            "* Esta descoberta levou ao desenvolvimento do sistema de afinação pitagórica, que foi amplamente utilizado na música ocidental por séculos.\n",
            "\n",
            "**Afinação:**\n",
            "\n",
            "* Pitágoras desenvolveu um monocórdio, um instrumento de uma corda, para estudar as relações entre as frequências das notas musicais.\n",
            "* Ele descobriu que a afinação de uma oitava perfeita poderia ser obtida dividindo a corda em dois segmentos com uma proporção de 1:2.\n",
            "* Este princípio foi usado para afinar instrumentos musicais, como liras e cítaras.\n",
            "\n",
            "**Influência:**\n",
            "\n",
            "As teorias de Pitágoras sobre música tiveram uma profunda influência no desenvolvimento da música ocidental. Elas forneceram uma base matemática para a compreensão da harmonia e da afinação, e ajudaram a estabelecer os fundamentos da teoria musical moderna.\n",
            "\n",
            "Além disso, as ideias de Pitágoras sobre a relação entre música e matemática inspiraram muitos músicos e compositores ao longo dos séculos, incluindo:\n",
            "\n",
            "* **Johannes Kepler:** Astrônomo e matemático que usou as teorias de Pitágoras para criar uma \"música das esferas\".\n",
            "* **Marin Mersenne:** Monge e matemático que estudou a acústica e a teoria musical.\n",
            "* **Joseph Sauveur:** Cientista francês que desenvolveu o conceito de sobretons.\n",
            "* **Hermann von Helmholtz:** Físico e fisiologista que estudou a percepção musical e a teoria da harmonia.\n",
            "\n",
            "As contribuições de Pitágoras para a música continuam a ser estudadas e apreciadas até hoje. \n",
            "\n"
          ]
        }
      ]
    }
  ]
}